{
 "cells": [
  {
   "cell_type": "code",
   "execution_count": null,
   "metadata": {},
   "outputs": [],
   "source": [
    "%reload_ext autoreload\n",
    "%autoreload 2\n",
    "%matplotlib inline"
   ]
  },
  {
   "cell_type": "code",
   "execution_count": null,
   "metadata": {},
   "outputs": [],
   "source": [
    "import os\n",
    "\n",
    "os.environ[\"KMP_DUPLICATE_LIB_OK\"] = \"TRUE\""
   ]
  },
  {
   "cell_type": "code",
   "execution_count": null,
   "metadata": {},
   "outputs": [],
   "source": [
    "import torch"
   ]
  },
  {
   "cell_type": "code",
   "execution_count": null,
   "metadata": {},
   "outputs": [],
   "source": [
    "for i in range(torch.cuda.device_count()):\n",
    "   print(f\"{i}:\", torch.cuda.get_device_properties(i).name)"
   ]
  },
  {
   "cell_type": "code",
   "execution_count": null,
   "metadata": {},
   "outputs": [],
   "source": [
    "device = \"cuda:0\" if torch.cuda.is_available() else \"cpu\"\n",
    "if device.startswith(\"cuda\"):\n",
    "    print(torch.cuda.get_device_name(device))"
   ]
  },
  {
   "cell_type": "code",
   "execution_count": null,
   "outputs": [],
   "source": [
    "from pathlib import Path\n",
    "from tqdm.auto import tqdm\n",
    "from objprint import objstr\n",
    "from datetime import datetime"
   ],
   "metadata": {
    "collapsed": false
   }
  },
  {
   "cell_type": "code",
   "execution_count": null,
   "metadata": {},
   "outputs": [],
   "source": [
    "from src import utils\n",
    "from src.utils import Logger, same_seeds, load_config\n",
    "from src.loader import get_dataloader\n",
    "from src.SlimUNETR.SlimUNETR import SlimUNETR\n",
    "\n",
    "from accelerate import Accelerator"
   ]
  },
  {
   "cell_type": "code",
   "execution_count": null,
   "metadata": {},
   "outputs": [],
   "source": [
    "config, data_flag, is_HepaticVessel = load_config()\n",
    "config.trainer.batch_size = 3\n",
    "data_flag"
   ]
  },
  {
   "cell_type": "code",
   "execution_count": null,
   "metadata": {},
   "outputs": [],
   "source": [
    "same_seeds(config.trainer.seed)\n",
    "logging_dir = Path(os.getcwd()) / \"logs\" / str(datetime.now()).replace(\":\",\"_\")\n",
    "accelerator = Accelerator(\n",
    "    cpu=False, log_with=[\"tensorboard\"], project_dir=str(logging_dir)\n",
    ")\n",
    "Logger(logging_dir if accelerator.is_local_main_process else None)\n",
    "accelerator.init_trackers('main')\n",
    "accelerator.print(objstr(config))\n",
    "\n",
    "accelerator.print(\"Load Model...\")\n",
    "model = SlimUNETR(**config.slim_unetr)\n",
    "model.to(device)\n",
    "image_size = config.trainer.image_size\n",
    "\n",
    "accelerator.print(\"Load Dataloader...\")\n",
    "train_loader, val_loader, unlab_loader = get_dataloader(config, data_flag, needs_unlab=True)"
   ]
  },
  {
   "cell_type": "code",
   "execution_count": null,
   "metadata": {},
   "outputs": [],
   "source": [
    "base_exp_path_save = Path('D:\\\\Study\\\\Аспирантура\\\\experiments\\\\Slim-unetr\\\\tbad_dataset_unlab_stages_with_tflab\\\\seed25\\\\epoch800\\\\use_tfTrue\\\\ims_128_rot_prob0.8_lrelu_split_new_class_GDFL_g2.0_fr08_fw080915_unlab_ratio0.5_unlab_weight0.3_start_unlab_epoch200')\n"
   ]
  },
  {
   "cell_type": "code",
   "execution_count": null,
   "metadata": {},
   "outputs": [],
   "source": [
    "model, starting_epoch, step, val_step = utils.resume_train_state(\n",
    "    model, base_exp_path_save, train_loader, accelerator, epoch=-1\n",
    ")\n",
    "print(\"Resuming training from epoch {}\".format(starting_epoch))"
   ]
  },
  {
   "cell_type": "code",
   "execution_count": null,
   "metadata": {},
   "outputs": [],
   "source": [
    "starting_epoch"
   ]
  },
  {
   "cell_type": "code",
   "execution_count": null,
   "metadata": {},
   "outputs": [],
   "source": [
    "for i, image_batch in enumerate(tqdm(val_loader)):\n",
    "    break"
   ]
  },
  {
   "cell_type": "code",
   "execution_count": null,
   "metadata": {},
   "outputs": [],
   "source": [
    "image = image_batch[\"image\"]\n",
    "label = image_batch[\"label\"]\n",
    "pred = model(image.to(device)).to('cpu').sigmoid()"
   ]
  },
  {
   "cell_type": "code",
   "execution_count": null,
   "outputs": [],
   "source": [
    "image.shape"
   ],
   "metadata": {
    "collapsed": false
   }
  },
  {
   "cell_type": "code",
   "execution_count": null,
   "outputs": [],
   "source": [
    "label.shape"
   ],
   "metadata": {
    "collapsed": false
   }
  },
  {
   "cell_type": "code",
   "execution_count": null,
   "outputs": [],
   "source": [
    "import numpy as np\n",
    "from matplotlib import pyplot as plt\n",
    "\n",
    "from lab_unlab_trainer import Transforms"
   ],
   "metadata": {
    "collapsed": false
   }
  },
  {
   "cell_type": "code",
   "execution_count": null,
   "outputs": [],
   "source": [
    "transform = Transforms(flip_prob=1, rot_prob=1, rot_range_z=0.4*np.pi)"
   ],
   "metadata": {
    "collapsed": false
   }
  },
  {
   "cell_type": "code",
   "execution_count": null,
   "outputs": [],
   "source": [
    "image_tf = transform(image)\n",
    "label_tf = transform(label, randomize=False)"
   ],
   "metadata": {
    "collapsed": false
   }
  },
  {
   "cell_type": "code",
   "execution_count": null,
   "outputs": [],
   "source": [
    "image_tf_inv = transform.inverse(image_tf)"
   ],
   "metadata": {
    "collapsed": false
   }
  },
  {
   "cell_type": "code",
   "execution_count": null,
   "outputs": [],
   "source": [
    "ind = 1\n",
    "slice_num = 2\n",
    "fig, ax = plt.subplots(slice_num, 4, figsize=(40, 20))\n",
    "for i in list(range(slice_num)):\n",
    "    for j in range(4):\n",
    "        ax[i, j].imshow(\n",
    "            image_tf[ind][0, :, :, j + i*8] + label_tf[ind][0, :, :, j + i*8] / 2, \n",
    "            cmap=\"gray\"\n",
    "        )\n",
    "        ax[i, j].axis('off')"
   ],
   "metadata": {
    "collapsed": false
   }
  },
  {
   "cell_type": "code",
   "execution_count": null,
   "outputs": [],
   "source": [
    "ind = 1\n",
    "slice_num = 2\n",
    "fig, ax = plt.subplots(slice_num, 4, figsize=(40, 20))\n",
    "for i in list(range(slice_num)):\n",
    "    for j in range(4):\n",
    "        ax[i, j].imshow(\n",
    "            image_tf_inv[ind][0, :, :, j + i*8] + label[ind][0, :, :, j + i*8] / 2, \n",
    "            cmap=\"gray\"\n",
    "        )\n",
    "        ax[i, j].axis('off')"
   ],
   "metadata": {
    "collapsed": false
   }
  },
  {
   "cell_type": "code",
   "execution_count": null,
   "outputs": [],
   "source": [],
   "metadata": {
    "collapsed": false
   }
  },
  {
   "cell_type": "code",
   "execution_count": null,
   "outputs": [],
   "source": [],
   "metadata": {
    "collapsed": false
   }
  }
 ],
 "metadata": {
  "kernelspec": {
   "display_name": "slim-unetr",
   "language": "python",
   "name": "python3"
  },
  "language_info": {
   "codemirror_mode": {
    "name": "ipython",
    "version": 3
   },
   "file_extension": ".py",
   "mimetype": "text/x-python",
   "name": "python",
   "nbconvert_exporter": "python",
   "pygments_lexer": "ipython3",
   "version": "3.11.9"
  }
 },
 "nbformat": 4,
 "nbformat_minor": 2
}
